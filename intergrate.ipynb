{
 "cells": [
  {
   "cell_type": "code",
   "execution_count": 1,
   "metadata": {},
   "outputs": [],
   "source": [
    "import numpy as np\n",
    "from Receiver import Softmax\n",
    "import json\n",
    "from tqdm.notebook import tqdm\n",
    "from forest.benchmarking.distance_measures import total_variation_distance\n",
    "from utils import *\n",
    "import torch"
   ]
  },
  {
   "cell_type": "code",
   "execution_count": null,
   "metadata": {},
   "outputs": [],
   "source": [
    "prior = np.load(\"../data/8_8/prior.npy\")\n",
    "utility_sender = np.load(\"../data/8_8/utilities_s.npy\")\n",
    "utility_receiver = np.load(\"../data/8_8/utilities_r.npy\")\n",
    "\n",
    "sample_prior = prior[0]\n",
    "sample_sender = utility_sender[0]\n",
    "sample_receiver = utility_receiver[0]\n",
    "sample_size = 1000\n",
    "t = 50\n",
    "commitments = genCommitment(8, 8, 10)\n",
    "collect_data = []\n",
    "\n",
    "for commitment in tqdm(commitments):\n",
    "    tester = Tester(8, 8, sample_size, t)\n",
    "    _, data = interact_with_receiver(tester, commitment, sample_prior, sample_receiver, 8, 8, 0.1, 100000, sample_size)\n",
    "    collect_for_training(commitment, collect_data, data, 8, 8)"
   ]
  },
  {
   "cell_type": "code",
   "execution_count": 9,
   "metadata": {},
   "outputs": [],
   "source": [
    "def add_to_train(dataset, commitment, data, m_dim, a_dim, s_dim):\n",
    "    new_train = []\n",
    "    message_stat = set()\n",
    "    probability = np.zeros((m_dim, a_dim))\n",
    "    for i in data:\n",
    "        action = i % m_dim\n",
    "        message = i // m_dim\n",
    "        message_stat.add(message)\n",
    "        probability[message, action] += 1\n",
    "    for i in range(m_dim):\n",
    "        if(np.sum(probability[i]) != 0):\n",
    "            probability[i] = probability[i] / np.sum(probability[i])\n",
    "    for message in message_stat:\n",
    "        tmp = commitment[:, message].tolist()\n",
    "        tmp.extend(probability[message].tolist())\n",
    "        new_train.append(tmp)\n",
    "    new_train = torch.FloatTensor(new_train)\n",
    "    dataset.x = torch.cat((dataset.x, new_train[:, 0:s_dim]), dim = 0)\n",
    "    dataset.y = torch.cat((dataset.y, new_train[:, s_dim:]), dim = 0)\n"
   ]
  },
  {
   "cell_type": "code",
   "execution_count": 5,
   "metadata": {},
   "outputs": [],
   "source": [
    "import numpy as np\n",
    "from torch.utils.data import DataLoader\n",
    "from dataset import dataset\n",
    "def split_train_val(collect_data, val_size, s_dim):\n",
    "    tmp = np.array(collect_data)\n",
    "    total_sample = len(tmp)\n",
    "    np.random.shuffle(tmp)\n",
    "    val_size = int(total_sample * val_size)\n",
    "    train_data = tmp[val_size : , :]\n",
    "    val_data = tmp[:val_size, :]\n",
    "    train_set = dataset(train_data, s_dim)\n",
    "    val_set = dataset(val_data, s_dim)\n",
    "    return train_set, val_set\n",
    "    \n",
    "def build_dataloader(trainset, valset, batch_size, s_dim):\n",
    "    train_loader = DataLoader(trainset, batch_size = batch_size, shuffle=True)\n",
    "    val_loader = DataLoader(valset, batch_size = batch_size, shuffle=False)\n",
    "    return train_loader, val_loader"
   ]
  },
  {
   "cell_type": "code",
   "execution_count": 6,
   "metadata": {},
   "outputs": [],
   "source": [
    "import torch.nn as nn\n",
    "class Receiver_Model(nn.Module):\n",
    "    def __init__(self, s_dim, a_dim):\n",
    "        super(Receiver_Model, self).__init__()\n",
    "        self.s_dim = s_dim\n",
    "        self.a_dim = a_dim\n",
    "        self.linear = nn.Linear(s_dim, a_dim)\n",
    "        # self.criterion = nn.CrossEntropyLoss()\n",
    "\n",
    "    def forward(self, x):\n",
    "        return self.linear(x)\n",
    "    \n",
    "    def __criterion__(self, logits, labels):\n",
    "        log_softmax = F.log_softmax(logits, dim = -1)\n",
    "        return -torch.mean(torch.sum(log_softmax * labels, dim = -1))\n",
    "    \n",
    "    def train(self, dataloader_train, dataloader_val, learning_rate, epochs, early_stopper):\n",
    "        opt_rm = torch.optim.RMSprop(self.parameters(), lr = learning_rate)\n",
    "        criterion = self.__criterion__\n",
    "        for epoch in range(epochs):\n",
    "            train_loss = self.__train_one_epoch__(dataloader_train, opt_rm, criterion)\n",
    "            val_loss = self.__val_one_epoch__(dataloader_val, criterion)\n",
    "            print(f\"train loss: {train_loss}, val loss: {val_loss}\")\n",
    "            if early_stopper.early_stop(val_loss):\n",
    "                break\n",
    "            \n",
    "    def __train_one_epoch__(self, dataloader_train, opt_rm, criterion):\n",
    "        train_loss = 0\n",
    "        for i, (feature, label) in enumerate(dataloader_train):\n",
    "            pred_logit = self.forward(feature.float())\n",
    "            loss = criterion(pred_logit, label)\n",
    "            opt_rm.zero_grad()\n",
    "            loss.backward()\n",
    "            opt_rm.step()\n",
    "            train_loss += loss.item()\n",
    "        return (train_loss / (i+1))\n",
    "    \n",
    "    def __val_one_epoch__(self, dataloader_val, criterion):\n",
    "        with torch.no_grad():\n",
    "            val_loss = 0\n",
    "            for i, (feature, label) in enumerate(dataloader_val):\n",
    "                pred_logit = self.forward(feature.float())\n",
    "                loss = criterion(pred_logit.float(), label)\n",
    "                val_loss += loss.item()\n",
    "            return (val_loss / (i+1))"
   ]
  },
  {
   "cell_type": "code",
   "execution_count": 7,
   "metadata": {},
   "outputs": [],
   "source": [
    "\n",
    "from Receiver_Model import Receiver_Model\n",
    "import torch\n",
    "from Sender import Sender\n",
    "train_data, val_data = split_train_val(collect_data, 0.2, 8)\n",
    "train_loader, val_loader = build_dataloader(train_data, val_data, 32, 8)\n",
    "receiver_model = Receiver_Model(8, 8)\n",
    "earlystopper = EarlyStopper(10, 0.01)\n",
    "train_losses = receiver_model.train(train_loader, val_loader, 0.0025, 100, earlystopper)\n",
    "sender = Sender(8, 8, sample_prior, sample_sender)\n",
    "opt_s = torch.optim.RMSprop(sender.parameters(), lr = 0.01)\n",
    "losses = sender.update_sender(receiver_model, 10000, earlystopper, opt_s)"
   ]
  },
  {
   "cell_type": "code",
   "execution_count": null,
   "metadata": {},
   "outputs": [],
   "source": [
    "receiver_model = Receiver_Model(8, 8)\n",
    "earlystopper = EarlyStopper(20, 0.01)\n",
    "trian_losses = receiver_model.train(train_loader, val_loader, 0.0025, 100, earlystopper)"
   ]
  },
  {
   "cell_type": "code",
   "execution_count": 10,
   "metadata": {},
   "outputs": [
    {
     "name": "stdout",
     "output_type": "stream",
     "text": [
      "predicted_reward: 0.6944105625152588, actual_reward: 0.6373838691010781\n",
      "predicted_reward: 0.6941384077072144, actual_reward: 0.631381095155172\n",
      "predicted_reward: 0.6945748329162598, actual_reward: 0.6350374286858342\n",
      "predicted_reward: 0.6940716505050659, actual_reward: 0.6231817585196064\n",
      "predicted_reward: 0.6936026811599731, actual_reward: 0.6317792441573319\n",
      "predicted_reward: 0.6936671733856201, actual_reward: 0.6378283621155075\n",
      "predicted_reward: 0.6945618987083435, actual_reward: 0.6405918266048889\n",
      "predicted_reward: 0.6945205926895142, actual_reward: 0.6444606429751056\n",
      "predicted_reward: 0.6935234665870667, actual_reward: 0.6340813557813406\n",
      "predicted_reward: 0.6941171884536743, actual_reward: 0.636555180521055\n",
      "predicted_reward: 0.6943650245666504, actual_reward: 0.6351416652208384\n",
      "predicted_reward: 0.639220118522644, actual_reward: 0.5185107351713888\n",
      "predicted_reward: 0.6937130093574524, actual_reward: 0.6077344342210959\n",
      "predicted_reward: 0.693414032459259, actual_reward: 0.6456663054094007\n"
     ]
    }
   ],
   "source": [
    "# 进一步判断\n",
    "while True:\n",
    "    sender = Sender(8, 8, sample_prior, sample_sender)\n",
    "    opt_s = torch.optim.RMSprop(sender.parameters(), lr = 0.01)\n",
    "    losses = sender.update_sender(receiver_model, 10000, earlystopper, opt_s)\n",
    "    predicted_reward = -losses[-1]\n",
    "    commitment = sender(torch.FloatTensor([1])).detach().numpy()\n",
    "    states, actions = interact_with_receiver(tester, commitment, sample_prior, sample_receiver, 8, 8, 0.1, 1000000, 20000)\n",
    "    actual_reward = []\n",
    "    for state, action in zip(states, actions):\n",
    "        actual_reward.append(sample_sender[state, action % 8])\n",
    "    actual_reward = np.mean(actual_reward)\n",
    "    print(f\"predicted_reward: {predicted_reward}, actual_reward: {actual_reward}\")\n",
    "    if(abs(predicted_reward - actual_reward) < 0.05):\n",
    "        break\n",
    "    else:\n",
    "        add_to_train(train_data, commitment, actions, 8, 8, 8)\n",
    "        receiver_model.train(train_loader, val_loader, 0.0025, 100, earlystopper)"
   ]
  },
  {
   "cell_type": "code",
   "execution_count": null,
   "metadata": {},
   "outputs": [],
   "source": []
  },
  {
   "cell_type": "code",
   "execution_count": 36,
   "metadata": {},
   "outputs": [
    {
     "data": {
      "text/plain": [
       "[<matplotlib.lines.Line2D at 0x7f7c5c2f3d30>]"
      ]
     },
     "execution_count": 36,
     "metadata": {},
     "output_type": "execute_result"
    },
    {
     "data": {
      "image/png": "[encoded data removed]",
      "text/plain": [
       "<Figure size 640x480 with 1 Axes>"
      ]
     },
     "metadata": {},
     "output_type": "display_data"
    }
   ],
   "source": [
    "import matplotlib.pyplot as plt\n",
    "plt.plot(losses)"
   ]
  },
  {
   "cell_type": "code",
   "execution_count": 38,
   "metadata": {},
   "outputs": [
    {
     "data": {
      "text/plain": [
       "[-0.6492596864700317,\n",
       " -0.6517616510391235,\n",
       " -0.6541854739189148,\n",
       " -0.6565258502960205,\n",
       " -0.658784806728363,\n",
       " -0.6609698534011841,\n",
       " -0.663090705871582,\n",
       " -0.6651589274406433,\n",
       " -0.6671859622001648,\n",
       " -0.6691827774047852,\n",
       " -0.6711593866348267,\n",
       " -0.6731229424476624,\n",
       " -0.6750783920288086,\n",
       " -0.6770275831222534,\n",
       " -0.6789683699607849,\n",
       " -0.6808961629867554,\n",
       " -0.6828032732009888,\n",
       " -0.684680163860321,\n",
       " -0.6865167021751404,\n",
       " -0.688302218914032]"
      ]
     },
     "execution_count": 38,
     "metadata": {},
     "output_type": "execute_result"
    }
   ],
   "source": [
    "losses[-20:]"
   ]
  },
  {
   "cell_type": "code",
   "execution_count": 12,
   "metadata": {},
   "outputs": [
    {
     "ename": "NameError",
     "evalue": "name 'x' is not defined",
     "output_type": "error",
     "traceback": [
      "\u001b[0;31m---------------------------------------------------------------------------\u001b[0m",
      "\u001b[0;31mNameError\u001b[0m                                 Traceback (most recent call last)",
      "\u001b[1;32m/home/Liu/Classify/Learing_to_Persuade/persuasion/code/intergrate.ipynb Cell 22\u001b[0m in \u001b[0;36m2\n\u001b[1;32m      <a href='vscode-notebook-cell://ssh-remote%2B183.174.229.140/home/Liu/Classify/Learing_to_Persuade/persuasion/code/intergrate.ipynb#X40sdnNjb2RlLXJlbW90ZQ%3D%3D?line=0'>1</a>\u001b[0m \u001b[39mimport\u001b[39;00m \u001b[39mtorch\u001b[39;00m\u001b[39m.\u001b[39;00m\u001b[39mnn\u001b[39;00m\u001b[39m.\u001b[39;00m\u001b[39mfunctional\u001b[39;00m \u001b[39mas\u001b[39;00m \u001b[39mF\u001b[39;00m\n\u001b[0;32m----> <a href='vscode-notebook-cell://ssh-remote%2B183.174.229.140/home/Liu/Classify/Learing_to_Persuade/persuasion/code/intergrate.ipynb#X40sdnNjb2RlLXJlbW90ZQ%3D%3D?line=1'>2</a>\u001b[0m y_pred \u001b[39m=\u001b[39m F\u001b[39m.\u001b[39msoftmax(receiver_model(x), dim\u001b[39m=\u001b[39m\u001b[39m-\u001b[39m\u001b[39m1\u001b[39m)\u001b[39m.\u001b[39mdetach()\u001b[39m.\u001b[39mnumpy()\n",
      "\u001b[0;31mNameError\u001b[0m: name 'x' is not defined"
     ]
    }
   ],
   "source": [
    "import torch.nn.functional as F\n",
    "y_pred = F.softmax(receiver_model(x), dim=-1).detach().numpy()"
   ]
  },
  {
   "cell_type": "code",
   "execution_count": 42,
   "metadata": {},
   "outputs": [
    {
     "data": {
      "text/plain": [
       "tensor([[-1.7262e-02, -1.1790e-02,  2.9151e-01, -2.1977e-02, -1.3125e-03,\n",
       "         -6.5711e-02, -1.8327e-01,  9.8181e-03],\n",
       "        [ 6.3759e-03,  5.6982e-03, -5.2650e-02, -1.2104e-02,  6.5703e-03,\n",
       "          2.0478e-02,  2.4792e-02,  8.4014e-04],\n",
       "        [-1.2354e-01,  5.1218e-03,  7.4058e-02, -4.6877e-02, -8.7101e-05,\n",
       "          1.2475e-02,  8.3517e-02, -4.6641e-03],\n",
       "        [ 3.5073e-02,  1.5291e-02,  2.3572e-02,  7.4605e-02, -9.6638e-03,\n",
       "          2.3897e-01, -3.7894e-01,  1.0938e-03],\n",
       "        [ 4.2514e-02, -1.9412e-03,  6.2161e-02,  3.2948e-02,  2.2620e-04,\n",
       "          8.4018e-02, -2.2012e-01,  1.9288e-04],\n",
       "        [-3.3054e-03,  2.6592e-03, -1.7397e-02,  1.2524e-02,  3.4753e-03,\n",
       "          1.2239e-03, -1.5297e-03,  2.3495e-03],\n",
       "        [-2.8800e-02,  1.6854e-03,  9.4075e-02, -1.8499e-02,  8.3438e-03,\n",
       "         -3.6150e-02, -1.7014e-02, -3.6423e-03],\n",
       "        [-9.0821e-03, -3.7916e-02, -4.2400e-02, -6.7742e-03,  9.5034e-03,\n",
       "          1.4029e-03,  8.6857e-02, -1.5918e-03],\n",
       "        [ 2.4961e-03, -2.8839e-04, -7.9755e-03, -9.5728e-03,  1.2519e-02,\n",
       "         -4.9091e-03,  7.6169e-03,  1.1354e-04],\n",
       "        [ 9.5894e-02, -5.3100e-03, -9.7693e-02,  9.8799e-02, -4.2959e-03,\n",
       "         -1.9296e-02, -6.5664e-02, -2.4337e-03],\n",
       "        [-1.3267e-01, -2.1569e-04,  3.6222e-02,  6.2183e-03,  1.2214e-03,\n",
       "          5.4279e-02,  3.4070e-02,  8.7849e-04],\n",
       "        [-1.2412e-02, -1.3492e-03,  6.0090e-03, -1.1276e-02, -1.0510e-03,\n",
       "          1.2220e-02,  9.1397e-03, -1.2800e-03],\n",
       "        [ 7.4282e-02, -5.8617e-03,  6.2799e-04,  4.6772e-02, -1.4726e-05,\n",
       "         -1.4884e-01,  3.1019e-02,  2.0135e-03],\n",
       "        [ 1.7352e-02,  5.7163e-03,  2.4217e-02,  1.1875e-02,  8.9601e-04,\n",
       "         -2.2440e-02, -4.0688e-02,  3.0716e-03],\n",
       "        [ 1.0081e-03,  2.2869e-03, -1.5979e-03,  4.8833e-03, -9.5776e-03,\n",
       "         -3.1791e-02,  3.2232e-02,  2.5562e-03],\n",
       "        [ 1.4616e-03,  6.6038e-03, -4.8785e-03, -3.3195e-02, -2.4013e-03,\n",
       "          1.0854e-02,  2.4772e-02, -3.2164e-03],\n",
       "        [-9.9377e-02,  7.6969e-03,  1.5861e-01,  1.2805e-02, -8.6119e-02,\n",
       "          4.4204e-03, -9.4490e-03,  1.1414e-02],\n",
       "        [-2.8975e-02,  5.6736e-03, -8.3856e-02, -2.1518e-02, -1.7810e-03,\n",
       "         -7.9858e-03,  1.4233e-01, -3.8848e-03],\n",
       "        [ 8.5218e-03,  7.7118e-03,  2.1722e-03,  4.3831e-03,  4.4515e-03,\n",
       "          8.5124e-03, -3.5391e-02, -3.6187e-04],\n",
       "        [-1.2512e-02,  2.3844e-02, -4.7759e-02,  1.1933e-04, -4.8117e-03,\n",
       "         -3.5571e-02,  7.6716e-02, -2.5759e-05],\n",
       "        [ 1.7020e-02,  7.5347e-03,  1.5840e-02, -3.6536e-02, -2.3350e-03,\n",
       "         -1.6139e-02,  1.4158e-02,  4.5724e-04],\n",
       "        [-3.1147e-02,  6.2747e-03,  3.5830e-02, -6.2521e-02,  7.7334e-04,\n",
       "          5.3748e-02, -4.3228e-03,  1.3642e-03],\n",
       "        [ 1.9195e-02, -1.6314e-02,  2.4813e-02,  1.3043e-02,  4.9016e-04,\n",
       "         -4.2952e-03, -3.6681e-02, -2.5129e-04],\n",
       "        [-2.1691e-02, -6.6938e-03,  1.1431e-01, -2.3417e-02,  1.2433e-02,\n",
       "         -3.0321e-02, -4.0043e-02, -4.5773e-03],\n",
       "        [ 3.1048e-02,  1.8034e-03,  3.7375e-02,  2.6660e-02, -3.6281e-03,\n",
       "         -7.0480e-02, -2.7211e-02,  4.4331e-03],\n",
       "        [ 4.7717e-02,  3.7776e-02,  9.5776e-02,  9.7064e-02, -3.6004e-03,\n",
       "          2.7769e-01, -5.5798e-01,  5.5629e-03],\n",
       "        [ 8.4754e-03,  6.5722e-03, -6.9135e-02,  8.1462e-03,  8.2336e-03,\n",
       "          2.3742e-03,  3.4213e-02,  1.1202e-03],\n",
       "        [ 3.4247e-02,  1.9442e-03, -2.2075e-03, -1.3496e-02, -1.8670e-03,\n",
       "         -7.0469e-03, -1.1306e-02, -2.6783e-04],\n",
       "        [-3.5017e-02, -6.0617e-03,  2.0339e-01, -2.1873e-02, -3.9276e-03,\n",
       "         -3.5349e-02, -8.5516e-02, -1.5641e-02],\n",
       "        [-2.3037e-02,  2.4261e-03, -2.1330e-01,  3.5466e-02,  6.5950e-03,\n",
       "          7.8795e-02,  1.1135e-01,  1.6972e-03],\n",
       "        [-2.5701e-02, -5.7388e-03,  2.6998e-02,  5.3226e-02, -4.4082e-04,\n",
       "         -3.7851e-02, -2.4047e-02,  1.3555e-02],\n",
       "        [-1.7321e-02,  8.5827e-03,  5.8467e-03, -1.0985e-02, -3.9536e-04,\n",
       "         -1.4250e-02,  2.9822e-02, -1.3004e-03]])"
      ]
     },
     "execution_count": 42,
     "metadata": {},
     "output_type": "execute_result"
    }
   ],
   "source": [
    "y - y_pred"
   ]
  },
  {
   "cell_type": "code",
   "execution_count": 28,
   "metadata": {},
   "outputs": [],
   "source": [
    "x, y = next(iter(train_loader))"
   ]
  },
  {
   "cell_type": "code",
   "execution_count": 11,
   "metadata": {},
   "outputs": [
    {
     "data": {
      "text/plain": [
       "tensor(nan)"
      ]
     },
     "execution_count": 11,
     "metadata": {},
     "output_type": "execute_result"
    }
   ],
   "source": [
    "-torch.mean(torch.sum(y * torch.log(y), dim=-1))"
   ]
  },
  {
   "cell_type": "code",
   "execution_count": 14,
   "metadata": {},
   "outputs": [
    {
     "name": "stdout",
     "output_type": "stream",
     "text": [
      "tensor([-0.0623, -0.0664, -0.1203, -0.0400, -0.0303, -0.0296, -0.1788, -0.0547])\n",
      "tensor([-0.3675, -0.0616, -0.3660, -0.2770, -0.0240, -0.1252, -0.1740, -0.0808])\n",
      "tensor([-0.2629, -0.0759, -0.3396, -0.2708, -0.1005, -0.3444, -0.3221, -0.0498])\n",
      "tensor([-0.1836, -0.1025, -0.3679, -0.1918, -0.1102, -0.2618, -0.3585, -0.0564])\n",
      "tensor([-0.0708, -0.0582, -0.2316, -0.0765, -0.1442, -0.1066, -0.2592, -0.0789])\n",
      "tensor([-0.2240, -0.1547, -0.2701, -0.1133, -0.0343, -0.2421, -0.3243, -0.0343])\n",
      "tensor([-0.2120, -0.0740, -0.3608, -0.2591, -0.1022, -0.3097, -0.3461, -0.0575])\n",
      "tensor([-0.1567, -0.1506, -0.2827, -0.1318, -0.0279, -0.1905, -0.2939, -0.0223])\n",
      "tensor([-0.2844, -0.1416, -0.3679, -0.1897, -0.0577, -0.1909, -0.3457, -0.1014])\n",
      "tensor([-0.1915, -0.1515, -0.3654, -0.1604, -0.0576, -0.1164, -0.3669, -0.0783])\n",
      "tensor([-0.3678, -0.0285, -0.3679, -0.2736, -0.0181, -0.0966, -0.2025, -0.0663])\n",
      "tensor([-0.2190, -0.0407, -0.3058, -0.1846, -0.1088, -0.1078, -0.2739, -0.1010])\n",
      "tensor([-0.2048, -0.1437, -0.2660, -0.1894, -0.0422, -0.2815, -0.3445, -0.0322])\n",
      "tensor([-0.3620, -0.1181, -0.2943, -0.3485, -0.1204, -0.3111,     nan, -0.0909])\n",
      "tensor([-0.2425, -0.1077, -0.3012, -0.2293, -0.0296, -0.2720, -0.3612, -0.0375])\n",
      "tensor([-0.3553, -0.0480, -0.3658, -0.2961, -0.0458, -0.2103, -0.2373, -0.0766])\n",
      "tensor([    nan,     nan, -0.3324, -0.0313, -0.0090, -0.0517, -0.3626, -0.0393])\n",
      "tensor([-0.1038, -0.1910, -0.3468, -0.0950, -0.0395, -0.0768, -0.3179, -0.0707])\n",
      "tensor([-0.2471, -0.1518, -0.3538, -0.1548, -0.0572, -0.2122, -0.3660, -0.0332])\n",
      "tensor([-0.1718, -0.0959, -0.3148, -0.0925, -0.0992, -0.2279, -0.2928, -0.0755])\n",
      "tensor([-0.3081, -0.1067, -0.3636, -0.1993, -0.0369, -0.1535, -0.3655, -0.0550])\n",
      "tensor([-0.3641, -0.0742, -0.3522, -0.2903, -0.0281, -0.2179, -0.2659, -0.0650])\n",
      "tensor([-0.0699, -0.1667, -0.3390, -0.0699, -0.0203, -0.0981, -0.2866, -0.0288])\n",
      "tensor([-0.2241, -0.0747, -0.3675, -0.1903, -0.0224, -0.1361, -0.3663, -0.0496])\n",
      "tensor([-0.2577,     nan, -0.1172,     nan, -0.0371, -0.3594, -0.3677, -0.0225])\n",
      "tensor([-0.2018, -0.0376, -0.1618, -0.1187, -0.0605, -0.0411, -0.0575, -0.0768])\n",
      "tensor([-0.3302, -0.0771, -0.3675, -0.2867, -0.0400, -0.1880, -0.2969, -0.0757])\n",
      "tensor([-0.2032, -0.0857, -0.0455, -0.1995, -0.0225, -0.3534, -0.3347,     nan])\n",
      "tensor([-0.3080, -0.0189, -0.3113, -0.2193, -0.0634, -0.1288, -0.1584, -0.0954])\n",
      "tensor([-0.2040, -0.2005, -0.3672, -0.1955, -0.2019, -0.1826, -0.3193, -0.1064])\n",
      "tensor([-0.0981, -0.1164, -0.3666, -0.1119, -0.0751, -0.1718, -0.3651, -0.0511])\n",
      "tensor([-0.2111, -0.1310, -0.3448, -0.1572, -0.0353, -0.1324, -0.3413, -0.0409])\n"
     ]
    }
   ],
   "source": [
    "for i in torch.log(y)* y:\n",
    "    print(i)"
   ]
  },
  {
   "cell_type": "code",
   "execution_count": 32,
   "metadata": {},
   "outputs": [
    {
     "data": {
      "text/plain": [
       "tensor([[1.0638e-01, 2.2925e-02, 3.9212e-01, 7.6944e-02, 1.4478e-02, 9.1602e-02,\n",
       "         2.8208e-01, 1.3471e-02],\n",
       "        [7.1209e-02, 2.8188e-02, 4.2392e-01, 6.3869e-02, 2.7427e-02, 1.0915e-01,\n",
       "         2.6374e-01, 1.2500e-02],\n",
       "        [3.4865e-01, 8.3118e-03, 2.2448e-01, 2.0872e-01, 1.9687e-02, 1.2111e-01,\n",
       "         4.7355e-02, 2.1688e-02],\n",
       "        [6.7688e-02, 2.4901e-02, 8.2535e-02, 9.0543e-02, 1.2620e-02, 3.3769e-01,\n",
       "         3.7888e-01, 5.1394e-03],\n",
       "        [1.0291e-02, 3.8186e-02, 5.8180e-03, 1.1704e-02, 2.0474e-04, 6.4662e-02,\n",
       "         8.6872e-01, 4.1857e-04],\n",
       "        [1.9072e-01, 1.9930e-02, 2.8195e-01, 1.5928e-01, 3.6417e-02, 1.6528e-01,\n",
       "         1.2081e-01, 2.5596e-02],\n",
       "        [4.6798e-02, 2.9037e-02, 5.2705e-01, 3.7171e-02, 2.3672e-02, 6.4403e-02,\n",
       "         2.5956e-01, 1.2309e-02],\n",
       "        [1.0003e-01, 3.8414e-02, 2.4151e-01, 8.7213e-02, 1.7247e-02, 1.3865e-01,\n",
       "         3.6791e-01, 9.0248e-03],\n",
       "        [2.3129e-02, 1.5567e-02, 7.2204e-01, 2.1913e-02, 8.3129e-02, 4.4185e-02,\n",
       "         7.2269e-02, 1.7771e-02],\n",
       "        [1.7606e-01, 1.8697e-02, 2.6986e-01, 1.3060e-01, 1.0764e-02, 1.2212e-01,\n",
       "         2.5865e-01, 1.3241e-02],\n",
       "        [1.5940e-01, 3.3753e-02, 3.0512e-01, 1.0849e-01, 2.2768e-02, 1.3858e-01,\n",
       "         2.1443e-01, 1.7454e-02],\n",
       "        [2.1848e-01, 3.0914e-02, 2.5438e-01, 1.0107e-01, 4.4908e-03, 6.8120e-02,\n",
       "         3.1144e-01, 1.1093e-02],\n",
       "        [2.2713e-01, 2.1380e-02, 1.4733e-01, 1.8074e-01, 1.8338e-02, 2.2797e-01,\n",
       "         1.6447e-01, 1.2645e-02],\n",
       "        [6.5295e-02, 3.1069e-02, 1.9135e-02, 8.4352e-02, 2.4988e-03, 2.8919e-01,\n",
       "         5.0627e-01, 2.1867e-03],\n",
       "        [2.0002e-02, 1.4654e-02, 6.9521e-01, 2.6336e-02, 3.9084e-02, 3.4269e-02,\n",
       "         1.5747e-01, 1.2968e-02],\n",
       "        [2.8197e-02, 2.8745e-02, 8.5253e-02, 3.3263e-02, 2.6059e-03, 8.3925e-02,\n",
       "         7.3474e-01, 3.2748e-03],\n",
       "        [1.9121e-01, 2.5324e-02, 3.4458e-01, 1.3482e-01, 8.6250e-02, 1.2101e-01,\n",
       "         5.7922e-02, 3.8885e-02],\n",
       "        [4.8096e-02, 2.5538e-02, 1.5969e-01, 7.0858e-02, 9.4333e-03, 1.2825e-01,\n",
       "         5.4974e-01, 8.3902e-03],\n",
       "        [3.0550e-02, 1.8876e-02, 6.7263e-01, 2.5639e-02, 3.6433e-02, 5.2801e-02,\n",
       "         1.5055e-01, 1.2517e-02],\n",
       "        [1.0437e-01, 5.5761e-02, 2.2451e-01, 8.0766e-02, 1.6720e-02, 1.3205e-01,\n",
       "         3.7054e-01, 1.5276e-02],\n",
       "        [1.1488e-01, 1.9816e-02, 4.2258e-01, 6.6846e-02, 4.2858e-03, 3.5380e-02,\n",
       "         3.2043e-01, 1.5785e-02],\n",
       "        [3.1394e-02, 2.2438e-02, 4.1234e-02, 6.2976e-02, 4.5806e-03, 2.2495e-01,\n",
       "         6.0928e-01, 3.1447e-03],\n",
       "        [5.9969e-02, 3.9840e-02, 1.0830e-01, 7.2198e-02, 1.2621e-02, 2.4343e-01,\n",
       "         4.5716e-01, 6.4780e-03],\n",
       "        [4.3117e-02, 1.9998e-02, 6.8764e-01, 3.4701e-02, 5.2564e-02, 4.3270e-02,\n",
       "         1.0067e-01, 1.8033e-02],\n",
       "        [4.4508e-02, 2.3861e-02, 1.8952e-01, 6.4439e-02, 2.1097e-02, 2.7308e-01,\n",
       "         3.7688e-01, 6.6128e-03],\n",
       "        [3.9528e-02, 2.0739e-02, 7.6431e-02, 6.5329e-02, 6.5553e-03, 2.2780e-01,\n",
       "         5.5979e-01, 3.8297e-03],\n",
       "        [2.1894e-02, 1.4312e-02, 8.6418e-01, 8.1379e-03, 7.8788e-03, 4.8884e-03,\n",
       "         6.9245e-02, 9.4648e-03],\n",
       "        [1.2538e-01, 3.1380e-02, 1.0971e-01, 1.1109e-01, 6.2706e-03, 1.7405e-01,\n",
       "         4.3618e-01, 5.9319e-03],\n",
       "        [4.4942e-02, 1.1060e-02, 5.3014e-01, 5.8290e-02, 1.3590e-02, 4.6128e-02,\n",
       "         2.7994e-01, 1.5901e-02],\n",
       "        [2.2629e-02, 1.5421e-02, 3.3229e-01, 4.3945e-02, 1.7542e-02, 9.9302e-02,\n",
       "         4.5895e-01, 9.9211e-03],\n",
       "        [9.4642e-02, 2.2505e-02, 3.4835e-01, 8.8237e-02, 1.6350e-02, 1.0502e-01,\n",
       "         3.1015e-01, 1.4749e-02],\n",
       "        [9.0830e-02, 4.3226e-02, 3.9963e-01, 4.1372e-02, 5.6841e-03, 3.8023e-02,\n",
       "         3.7074e-01, 1.0493e-02]], grad_fn=<SoftmaxBackward0>)"
      ]
     },
     "execution_count": 32,
     "metadata": {},
     "output_type": "execute_result"
    }
   ],
   "source": [
    "import torch.nn.functional as F\n",
    "F.softmax(receiver_model(x), dim=-1)"
   ]
  },
  {
   "cell_type": "code",
   "execution_count": 33,
   "metadata": {},
   "outputs": [
    {
     "data": {
      "text/plain": [
       "tensor([[8.9814e-02, 1.0953e-02, 6.8127e-01, 5.4765e-02, 1.3143e-02, 2.6287e-02,\n",
       "         1.0077e-01, 2.3001e-02],\n",
       "        [7.8210e-02, 3.3852e-02, 3.6926e-01, 5.1556e-02, 3.3852e-02, 1.3171e-01,\n",
       "         2.8833e-01, 1.3230e-02],\n",
       "        [2.1877e-01, 1.3649e-02, 3.0037e-01, 1.5839e-01, 1.9835e-02, 1.4081e-01,\n",
       "         1.3128e-01, 1.6889e-02],\n",
       "        [1.0218e-01, 3.9992e-02, 1.0563e-01, 1.6418e-01, 2.8703e-03, 5.7903e-01,\n",
       "         0.0000e+00, 6.1232e-03],\n",
       "        [5.2654e-02, 3.6340e-02, 6.8019e-02, 4.4540e-02, 4.3159e-04, 1.5045e-01,\n",
       "         6.4696e-01, 6.0423e-04],\n",
       "        [1.8541e-01, 2.2703e-02, 2.6424e-01, 1.6943e-01, 3.9941e-02, 1.7091e-01,\n",
       "         1.1982e-01, 2.7538e-02],\n",
       "        [1.8688e-02, 3.0581e-02, 6.1910e-01, 1.8688e-02, 3.1940e-02, 2.8882e-02,\n",
       "         2.4363e-01, 8.4947e-03],\n",
       "        [9.1843e-02, 3.2113e-04, 1.9750e-01, 8.0283e-02, 2.6654e-02, 1.4226e-01,\n",
       "         4.5376e-01, 7.3860e-03],\n",
       "        [2.6003e-02, 1.5319e-02, 7.1296e-01, 1.2296e-02, 9.5344e-02, 4.0113e-02,\n",
       "         8.0226e-02, 1.7738e-02],\n",
       "        [2.7148e-01, 1.3312e-02, 1.7184e-01, 2.2832e-01, 6.4542e-03, 1.0448e-01,\n",
       "         1.9363e-01, 1.0488e-02],\n",
       "        [2.5712e-02, 3.3574e-02, 3.3999e-01, 1.1347e-01, 2.4012e-02, 1.9571e-01,\n",
       "         2.4947e-01, 1.8062e-02],\n",
       "        [2.0474e-01, 2.9690e-02, 2.5956e-01, 8.8889e-02, 3.4608e-03, 8.2332e-02,\n",
       "         3.2168e-01, 9.6539e-03],\n",
       "        [2.9872e-01, 1.5565e-02, 1.4712e-01, 2.2516e-01, 1.8337e-02, 8.4435e-02,\n",
       "         1.9616e-01, 1.4499e-02],\n",
       "        [8.1359e-02, 3.6661e-02, 4.3288e-02, 9.4896e-02, 3.3841e-03, 2.7186e-01,\n",
       "         4.6334e-01, 5.2171e-03],\n",
       "        [2.1612e-02, 1.7006e-02, 6.9371e-01, 3.1355e-02, 2.9052e-02, 3.5430e-03,\n",
       "         1.8813e-01, 1.5589e-02],\n",
       "        [2.9791e-02, 3.5172e-02, 8.0146e-02, 0.0000e+00, 1.9220e-04, 9.5714e-02,\n",
       "         7.5899e-01, 0.0000e+00],\n",
       "        [8.9972e-02, 3.3283e-02, 5.0268e-01, 1.4537e-01, 4.2946e-04, 1.2948e-01,\n",
       "         4.8744e-02, 5.0032e-02],\n",
       "        [1.9516e-02, 3.1081e-02, 7.6617e-02, 4.9151e-02, 7.5894e-03, 1.2179e-01,\n",
       "         6.8992e-01, 4.3368e-03],\n",
       "        [3.9506e-02, 2.6540e-02, 6.7362e-01, 2.9984e-02, 4.0721e-02, 6.1994e-02,\n",
       "         1.1568e-01, 1.1953e-02],\n",
       "        [9.1298e-02, 7.9389e-02, 1.7557e-01, 8.0000e-02, 1.1908e-02, 9.8015e-02,\n",
       "         4.4885e-01, 1.4962e-02],\n",
       "        [1.3196e-01, 2.7370e-02, 4.3768e-01, 2.9814e-02, 1.9550e-03, 2.0039e-02,\n",
       "         3.3529e-01, 1.5885e-02],\n",
       "        [1.3982e-04, 2.8663e-02, 7.6902e-02, 0.0000e+00, 5.3132e-03, 2.8300e-01,\n",
       "         6.0151e-01, 4.4743e-03],\n",
       "        [7.8559e-02, 2.3395e-02, 1.3253e-01, 8.4275e-02, 1.3027e-02, 2.4325e-01,\n",
       "         4.1885e-01, 6.1146e-03],\n",
       "        [2.2104e-02, 1.3316e-02, 8.0107e-01, 1.1185e-02, 6.4714e-02, 1.3848e-02,\n",
       "         6.0453e-02, 1.3316e-02],\n",
       "        [7.5109e-02, 2.5627e-02, 2.2639e-01, 9.0095e-02, 1.7203e-02, 2.0883e-01,\n",
       "         3.4584e-01, 1.0907e-02],\n",
       "        [8.7194e-02, 5.8398e-02, 1.7181e-01, 1.6200e-01, 2.8958e-03, 5.0837e-01,\n",
       "         0.0000e+00, 9.3308e-03],\n",
       "        [3.0742e-02, 2.0924e-02, 7.9495e-01, 1.6256e-02, 1.6095e-02, 7.4038e-03,\n",
       "         1.0317e-01, 1.0462e-02],\n",
       "        [1.5902e-01, 3.3275e-02, 1.0683e-01, 9.6673e-02, 4.3783e-03, 1.7093e-01,\n",
       "         4.2329e-01, 5.6042e-03],\n",
       "        [1.0766e-02, 4.9689e-03, 7.3416e-01, 3.6439e-02, 9.5238e-03, 1.1594e-02,\n",
       "         1.9255e-01, 0.0000e+00],\n",
       "        [0.0000e+00, 1.7816e-02, 1.1897e-01, 7.9502e-02, 2.3946e-02, 1.7969e-01,\n",
       "         5.6858e-01, 1.1494e-02],\n",
       "        [6.9277e-02, 1.6566e-02, 3.7651e-01, 1.4081e-01, 1.5813e-02, 6.7771e-02,\n",
       "         2.8539e-01, 2.7861e-02],\n",
       "        [7.3927e-02, 5.1669e-02, 4.0355e-01, 3.0207e-02, 5.2994e-03, 2.4377e-02,\n",
       "         4.0196e-01, 9.0090e-03]])"
      ]
     },
     "execution_count": 33,
     "metadata": {},
     "output_type": "execute_result"
    }
   ],
   "source": [
    "y"
   ]
  },
  {
   "cell_type": "code",
   "execution_count": null,
   "metadata": {},
   "outputs": [],
   "source": [
    "receiver_model"
   ]
  },
  {
   "cell_type": "code",
   "execution_count": 21,
   "metadata": {},
   "outputs": [
    {
     "data": {
      "text/plain": [
       "tensor([0.0439, 0.0551, 0.1177, 0.0226, 0.0000, 0.0000, 0.7577, 0.0029])"
      ]
     },
     "execution_count": 21,
     "metadata": {},
     "output_type": "execute_result"
    }
   ],
   "source": [
    "y[0]"
   ]
  },
  {
   "cell_type": "code",
   "execution_count": 19,
   "metadata": {},
   "outputs": [
    {
     "data": {
      "text/plain": [
       "tensor([[-3324.9272, -3331.3442, -3351.8130,  3381.1855, -3298.8696, -3330.3701,\n",
       "         -3352.1514, -3346.3291],\n",
       "        [-3273.6982, -3287.1152, -3300.3022,  3330.2056, -3249.0610, -3279.6140,\n",
       "         -3304.7144, -3295.7524],\n",
       "        [-3159.1570, -3173.1387, -3184.6006,  3213.2012, -3135.3569, -3164.6450,\n",
       "         -3188.8984, -3179.9663],\n",
       "        [-3616.0815, -3631.8931, -3643.6934,  3679.6396, -3570.8247, -3619.0718,\n",
       "         -3655.8657, -3635.8892],\n",
       "        [-3570.6733, -3585.9004, -3600.4749,  3635.8220, -3532.5920, -3573.8384,\n",
       "         -3606.4717, -3593.9678],\n",
       "        [-3078.4622, -3092.0408, -3102.8291,  3134.8965, -3048.7363, -3085.7444,\n",
       "         -3110.7041, -3099.1521],\n",
       "        [-4804.8965, -4821.7622, -4843.0859,  4894.4033, -4746.5308, -4812.4785,\n",
       "         -4854.4463, -4839.9189],\n",
       "        [-5025.8174, -5051.8027, -5057.9990,  5113.4482, -4979.7837, -5041.3467,\n",
       "         -5079.2402, -5057.9590],\n",
       "        [-4232.7686, -4248.3379, -4279.9785,  4315.9756, -4184.6748, -4233.8398,\n",
       "         -4280.5693, -4264.2993],\n",
       "        [-3851.0132, -3867.8335, -3888.4585,  3925.1514, -3801.9036, -3851.3804,\n",
       "         -3894.2117, -3877.8218],\n",
       "        [-4067.7773, -4084.2002, -4109.7461,  4147.2803, -4025.9722, -4070.6091,\n",
       "         -4111.2612, -4099.7466],\n",
       "        [-3516.4543, -3532.6631, -3536.0537,  3574.3755, -3472.2393, -3520.8108,\n",
       "         -3552.0781, -3533.8135],\n",
       "        [-3548.7007, -3569.7534, -3578.1445,  3612.8369, -3527.8550, -3563.7012,\n",
       "         -3589.5674, -3574.2656],\n",
       "        [-4497.5381, -4519.7407, -4535.7549,  4575.8945, -4458.2690, -4492.0059,\n",
       "         -4534.7588, -4527.1611],\n",
       "        [-4103.5728, -4112.4175, -4135.7280,  4174.7520, -4064.3989, -4109.6152,\n",
       "         -4139.0283, -4128.4355],\n",
       "        [-4137.5386, -4171.3262, -4184.7959,  4225.9688, -4108.9385, -4155.1016,\n",
       "         -4196.3008, -4171.5889],\n",
       "        [-4176.5522, -4196.2549, -4221.2627,  4262.0957, -4118.6733, -4180.9102,\n",
       "         -4231.1113, -4203.4185],\n",
       "        [-3221.9761, -3237.3748, -3247.5103,  3280.6987, -3186.2417, -3225.5186,\n",
       "         -3255.8489, -3243.1294],\n",
       "        [-4662.5073, -4687.9541, -4697.3105,  4748.2207, -4621.6255, -4673.1787,\n",
       "         -4710.2305, -4694.0444],\n",
       "        [-2820.8621, -2834.1294, -2847.1082,  2872.2686, -2794.2454, -2825.7009,\n",
       "         -2852.2131, -2839.0962],\n",
       "        [-4384.4341, -4399.6797, -4413.1436,  4457.2637, -4334.0156, -4384.5107,\n",
       "         -4423.6074, -4410.8545],\n",
       "        [-3989.1914, -4006.8076, -4015.0532,  4055.7202, -3941.6538, -3988.7842,\n",
       "         -4026.0525, -4010.0513],\n",
       "        [-3619.6460, -3643.0989, -3650.9707,  3687.8740, -3591.8682, -3628.3762,\n",
       "         -3658.9258, -3644.0342],\n",
       "        [-3332.6533, -3350.0151, -3360.1328,  3392.6431, -3310.6443, -3344.0723,\n",
       "         -3367.3767, -3355.2556],\n",
       "        [-3247.0505, -3261.8987, -3274.9053,  3307.5759, -3212.1042, -3252.4409,\n",
       "         -3282.2847, -3268.8601],\n",
       "        [-4419.0122, -4446.9541, -4461.5879,  4509.1836, -4381.1025, -4434.7969,\n",
       "         -4474.5898, -4455.7563],\n",
       "        [-4761.9668, -4787.0083, -4802.4629,  4853.2681, -4718.2412, -4773.9741,\n",
       "         -4813.1641, -4792.0767],\n",
       "        [-3796.3638, -3813.6582, -3822.1401,  3860.3252, -3753.7466, -3794.5518,\n",
       "         -3830.9434, -3818.5449],\n",
       "        [-3343.9692, -3361.5090, -3374.8076,  3402.1797, -3319.7607, -3343.8799,\n",
       "         -3374.2893, -3368.4250],\n",
       "        [-4116.5078, -4132.9614, -4150.4766,  4192.5352, -4077.5659, -4123.2617,\n",
       "         -4153.9756, -4142.7529],\n",
       "        [-3500.5889, -3515.4507, -3531.9961,  3562.5344, -3466.7576, -3501.3892,\n",
       "         -3535.2671, -3525.2898],\n",
       "        [-2486.7114, -2498.2734, -2505.8523,  2529.4419, -2466.5884, -2492.1418,\n",
       "         -2510.7703, -2501.5906]], grad_fn=<AddmmBackward0>)"
      ]
     },
     "execution_count": 19,
     "metadata": {},
     "output_type": "execute_result"
    }
   ],
   "source": [
    "receiver_model(x)"
   ]
  },
  {
   "cell_type": "code",
   "execution_count": 8,
   "metadata": {},
   "outputs": [
    {
     "data": {
      "text/plain": [
       "tensor(7383.5698, grad_fn=<NegBackward0>)"
      ]
     },
     "execution_count": 8,
     "metadata": {},
     "output_type": "execute_result"
    }
   ],
   "source": [
    "-torch.mean(torch.sum(y * F.log_softmax(receiver_model(x), dim=-1), dim=-1))"
   ]
  },
  {
   "cell_type": "code",
   "execution_count": null,
   "metadata": {},
   "outputs": [],
   "source": [
    "F.log_softmax()"
   ]
  },
  {
   "cell_type": "code",
   "execution_count": 9,
   "metadata": {},
   "outputs": [
    {
     "data": {
      "text/plain": [
       "tensor([[0.0148, 0.0161, 0.8710, 0.0084, 0.0059, 0.0057, 0.0657, 0.0125],\n",
       "        [0.3855, 0.0146, 0.3314, 0.1419, 0.0044, 0.0384, 0.0629, 0.0209],\n",
       "        [0.1278, 0.0192, 0.2335, 0.1354, 0.0281, 0.2446, 0.2003, 0.0111],\n",
       "        [0.0684, 0.0289, 0.3695, 0.0735, 0.0320, 0.1267, 0.2879, 0.0130],\n",
       "        [0.0175, 0.0135, 0.7272, 0.0194, 0.0473, 0.0306, 0.1243, 0.0202],\n",
       "        [0.0953, 0.0525, 0.1347, 0.0333, 0.0069, 0.1094, 0.5610, 0.0069],\n",
       "        [0.0867, 0.0185, 0.2982, 0.1242, 0.0288, 0.1815, 0.2488, 0.0133],\n",
       "        [0.0535, 0.0504, 0.1479, 0.0414, 0.0053, 0.0727, 0.6247, 0.0040],\n",
       "        [0.1498, 0.0460, 0.3695, 0.0721, 0.0134, 0.0729, 0.2478, 0.0285],\n",
       "        [0.0733, 0.0508, 0.4112, 0.0555, 0.0134, 0.0346, 0.3412, 0.0200],\n",
       "        [0.3608, 0.0055, 0.3694, 0.1383, 0.0031, 0.0266, 0.0803, 0.0161],\n",
       "        [0.0916, 0.0085, 0.6013, 0.0691, 0.0314, 0.0311, 0.1386, 0.0283],\n",
       "        [0.0818, 0.0470, 0.1307, 0.0720, 0.0090, 0.1466, 0.5065, 0.0064],\n",
       "        [0.3041, 0.0353, 0.1614, 0.2550, 0.0363, 0.1834, 0.0000, 0.0245],\n",
       "        [0.1097, 0.0310, 0.1699, 0.0992, 0.0057, 0.1366, 0.4401, 0.0077],\n",
       "        [0.2759, 0.0105, 0.3296, 0.1635, 0.0099, 0.0855, 0.1056, 0.0194],\n",
       "        [0.0000, 0.0000, 0.5409, 0.0061, 0.0014, 0.0116, 0.4318, 0.0082],\n",
       "        [0.0295, 0.0729, 0.2507, 0.0260, 0.0082, 0.0195, 0.5757, 0.0175],\n",
       "        [0.1136, 0.0510, 0.2709, 0.0526, 0.0132, 0.0868, 0.4052, 0.0066],\n",
       "        [0.0616, 0.0264, 0.5825, 0.0251, 0.0276, 0.0982, 0.1595, 0.0191],\n",
       "        [0.1792, 0.0306, 0.3132, 0.0782, 0.0075, 0.0519, 0.3268, 0.0126],\n",
       "        [0.3164, 0.0186, 0.2660, 0.1565, 0.0054, 0.0908, 0.1306, 0.0156],\n",
       "        [0.0172, 0.0589, 0.2322, 0.0172, 0.0036, 0.0272, 0.6382, 0.0056],\n",
       "        [0.0954, 0.0188, 0.3520, 0.0725, 0.0041, 0.0434, 0.4028, 0.0110],\n",
       "        [0.1230, 0.0000, 0.0349, 0.0000, 0.0076, 0.4495, 0.3808, 0.0041],\n",
       "        [0.0799, 0.0077, 0.8211, 0.0356, 0.0142, 0.0087, 0.0133, 0.0195],\n",
       "        [0.2145, 0.0196, 0.3503, 0.1524, 0.0084, 0.0711, 0.1645, 0.0191],\n",
       "        [0.0807, 0.0226, 0.0098, 0.0783, 0.0041, 0.2695, 0.5349, 0.0000],\n",
       "        [0.1791, 0.0033, 0.5901, 0.0918, 0.0151, 0.0400, 0.0544, 0.0262],\n",
       "        [0.0813, 0.0790, 0.3898, 0.0758, 0.0799, 0.0679, 0.1958, 0.0305],\n",
       "        [0.0272, 0.0346, 0.3991, 0.0327, 0.0189, 0.0617, 0.4144, 0.0114],\n",
       "        [0.0861, 0.0410, 0.2455, 0.0538, 0.0071, 0.0417, 0.5162, 0.0086]])"
      ]
     },
     "execution_count": 9,
     "metadata": {},
     "output_type": "execute_result"
    }
   ],
   "source": [
    "y"
   ]
  },
  {
   "cell_type": "code",
   "execution_count": null,
   "metadata": {},
   "outputs": [],
   "source": []
  },
  {
   "cell_type": "code",
   "execution_count": 24,
   "metadata": {},
   "outputs": [
    {
     "data": {
      "text/plain": [
       "[<matplotlib.lines.Line2D at 0x7f04702a6820>]"
      ]
     },
     "execution_count": 24,
     "metadata": {},
     "output_type": "execute_result"
    },
    {
     "data": {
      "image/png": "[encoded data removed]",
      "text/plain": [
       "<Figure size 640x480 with 1 Axes>"
      ]
     },
     "metadata": {},
     "output_type": "display_data"
    }
   ],
   "source": [
    "import matplotlib.pyplot as plt\n",
    "plt.plot(losses)"
   ]
  },
  {
   "cell_type": "code",
   "execution_count": 8,
   "metadata": {},
   "outputs": [
    {
     "data": {
      "text/plain": [
       "(0.7389365434646606, 0.4808103939038986)"
      ]
     },
     "execution_count": 8,
     "metadata": {},
     "output_type": "execute_result"
    }
   ],
   "source": [
    "predicted_reward, actual_reward"
   ]
  },
  {
   "cell_type": "code",
   "execution_count": null,
   "metadata": {},
   "outputs": [],
   "source": []
  }
 ],
 "metadata": {
  "kernelspec": {
   "display_name": "presuade",
   "language": "python",
   "name": "python3"
  },
  "language_info": {
   "codemirror_mode": {
    "name": "ipython",
    "version": 3
   },
   "file_extension": ".py",
   "mimetype": "text/x-python",
   "name": "python",
   "nbconvert_exporter": "python",
   "pygments_lexer": "ipython3",
   "version": "3.8.17"
  },
  "orig_nbformat": 4
 },
 "nbformat": 4,
 "nbformat_minor": 2
}
